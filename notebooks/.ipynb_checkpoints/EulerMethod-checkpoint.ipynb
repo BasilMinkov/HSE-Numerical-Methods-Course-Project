{
 "cells": [
  {
   "cell_type": "code",
   "execution_count": 1,
   "metadata": {
    "collapsed": true
   },
   "outputs": [],
   "source": [
    "import numpy as np\n",
    "import matplotlib.pyplot as plt\n",
    "import warnings\n",
    "warnings.filterwarnings(\"ignore\") # Игнорируем предупреждения\n",
    "%matplotlib inline"
   ]
  },
  {
   "cell_type": "code",
   "execution_count": null,
   "metadata": {
    "collapsed": true
   },
   "outputs": [],
   "source": [
    "def my_foo(x, y):\n",
    "    return y**2-x\n",
    "\n",
    "md = EulerMethod(foo=my_foo)\n",
    "\n",
    "# Runge rule\n",
    "\n",
    "p = 1\n",
    "\n",
    "md.fit(x0=1, y0=0, xf=3, n=None, d=0.1)\n",
    "y2, x2 = md.predict()\n",
    "\n",
    "md.fit(x0=1, y0=0, xf=3, n=None, d=0.2)\n",
    "y1, x1 = md.predict()\n",
    "\n",
    "plt.plot(x1, y1, label=\"\")\n",
    "plt.plot(x1, y1, label=\"\")\n",
    "plt.title\n",
    "plt.legend(bbox_to_anchor=(0., 1.02, 1., .102), loc=3, ncol=2, mode=\"expand\", borderaxespad=0.)\n",
    "\n",
    "ans = np.array([])\n",
    "for i in range(len(y1)):\n",
    "    ans = np.append(ans, abs(y1[i] - y2[i*2]))\n",
    "print(ans)\n",
    "print(ans.max())"
   ]
  }
 ],
 "metadata": {
  "kernelspec": {
   "display_name": "Python 3",
   "language": "python",
   "name": "python3"
  },
  "language_info": {
   "codemirror_mode": {
    "name": "ipython",
    "version": 3
   },
   "file_extension": ".py",
   "mimetype": "text/x-python",
   "name": "python",
   "nbconvert_exporter": "python",
   "pygments_lexer": "ipython3",
   "version": "3.6.3"
  }
 },
 "nbformat": 4,
 "nbformat_minor": 1
}
